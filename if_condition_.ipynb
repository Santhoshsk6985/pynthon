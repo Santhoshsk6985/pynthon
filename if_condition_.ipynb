{
  "nbformat": 4,
  "nbformat_minor": 0,
  "metadata": {
    "colab": {
      "provenance": []
    },
    "kernelspec": {
      "name": "python3",
      "display_name": "Python 3"
    },
    "language_info": {
      "name": "python"
    }
  },
  "cells": [
    {
      "cell_type": "code",
      "execution_count": null,
      "metadata": {
        "colab": {
          "base_uri": "https://localhost:8080/"
        },
        "id": "C3ChVDmvILuM",
        "outputId": "82c61f90-16b5-416f-ea52-3e4febd6266f"
      },
      "outputs": [
        {
          "output_type": "stream",
          "name": "stdout",
          "text": [
            "140\n",
            "46.666666666666664\n",
            "pass\n"
          ]
        }
      ],
      "source": [
        "m1=40\n",
        "m2=45\n",
        "m3=55\n",
        "total = m1 + m2 + m3\n",
        "avg = total / 3\n",
        "print(total)\n",
        "print(avg)\n",
        "if m1 > 34 and m2 > 34 and m3 > 34:\n",
        "  print(\"pass\")\n",
        "else:\n",
        "  print(\"fail\")"
      ]
    }
  ]
}